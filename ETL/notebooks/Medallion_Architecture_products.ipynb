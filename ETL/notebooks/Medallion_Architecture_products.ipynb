{
 "cells": [
  {
   "cell_type": "markdown",
   "id": "c784a18d-9bc4-4918-a94b-2afe52dc1c01",
   "metadata": {},
   "source": [
    "## Medallion_etl\n",
    " - Bronze -> Silver -> Gold PySpark ETL for Product domain"
   ]
  },
  {
   "cell_type": "code",
   "execution_count": 1,
   "id": "041d1092-ff16-4416-8268-8008d330b92e",
   "metadata": {},
   "outputs": [],
   "source": [
    "from pyspark.sql import SparkSession\n",
    "from pyspark.sql import functions as F\n",
    "from pyspark.sql.window import Window\n",
    "from pyspark.sql.types import (\n",
    "    IntegerType, LongType, DoubleType, StringType, DecimalType, TimestampType\n",
    ")\n",
    "import sys"
   ]
  },
  {
   "cell_type": "markdown",
   "id": "e1dfbd4e-d3e1-4714-ab22-90eeb1ece37c",
   "metadata": {},
   "source": [
    "### Configurations"
   ]
  },
  {
   "cell_type": "code",
   "execution_count": 2,
   "id": "f6e0e861-c8e3-4ebb-b7d8-5188c081d5b9",
   "metadata": {},
   "outputs": [],
   "source": [
    "BASE_CSV_PATH = \"/home/jovyan/data/project_data\"     \n",
    "BASE_PATH = \"/home/jovyan/data/lake\"                 \n",
    "BRONZE_PATH = f\"{BASE_PATH}/bronze\"\n",
    "SILVER_PATH = f\"{BASE_PATH}/silver\"\n",
    "GOLD_PATH = f\"{BASE_PATH}/gold\""
   ]
  },
  {
   "cell_type": "markdown",
   "id": "9baf0ca8-eac2-4cbd-b97e-7127c590deb9",
   "metadata": {},
   "source": [
    "### Create Spark Session"
   ]
  },
  {
   "cell_type": "code",
   "execution_count": 3,
   "id": "e8d821f6-c7fb-4338-b306-dfc3a6b9f8c7",
   "metadata": {},
   "outputs": [],
   "source": [
    "spark = SparkSession.builder \\\n",
    "    .appName(\"MedallionETL_Product\") \\\n",
    "    .config(\"spark.sql.shuffle.partitions\", \"8\") \\\n",
    "    .getOrCreate()\n",
    "\n",
    "spark.sparkContext.setLogLevel(\"WARN\")"
   ]
  },
  {
   "cell_type": "code",
   "execution_count": 4,
   "id": "a8146076-51e3-4b4e-a527-988eca9da0fe",
   "metadata": {},
   "outputs": [],
   "source": [
    "def read_csv(name, schema=None):\n",
    "    path = f\"{BASE_CSV_PATH}/{name}.csv\"\n",
    "    df = spark.read.option(\"header\", True).option(\"multiLine\", False).option(\"inferSchema\", True).csv(path)\n",
    "    return df"
   ]
  },
  {
   "cell_type": "markdown",
   "id": "b7ed6b63-e413-42ba-8eac-c028343acd4c",
   "metadata": {},
   "source": [
    "# ---------------------------\n",
    "# BRONZE Layer: raw data \n",
    "# ---------------------------"
   ]
  },
  {
   "cell_type": "code",
   "execution_count": 5,
   "id": "3a3a1d81-611f-440f-bb2f-3e8c2f05cdd9",
   "metadata": {},
   "outputs": [],
   "source": [
    "def bronze_ingest():\n",
    "    print(\"=== Bronze ingest ===\")\n",
    "    tables = [\"products\", \"categories\", \"inventory\", \"reviews\", \"orders\", \"order_items\", \"suppliers\", \"product_suppliers\"]\n",
    "    for t in tables:\n",
    "        df = read_csv(t)\n",
    "        out = f\"{BRONZE_PATH}/{t}\"\n",
    "        df.write.mode(\"overwrite\").parquet(out)\n",
    "        print(f\"Wrote bronze table {t} -> {out} (rows={df.count()})\")"
   ]
  },
  {
   "cell_type": "code",
   "execution_count": 6,
   "id": "0ab32c4e-470e-4c14-a948-603d6d382f94",
   "metadata": {},
   "outputs": [
    {
     "name": "stdout",
     "output_type": "stream",
     "text": [
      "Bronze products count: 1000\n"
     ]
    }
   ],
   "source": [
    "bronze_products = spark.read.parquet(\"/home/jovyan/data/lake/bronze/products\")\n",
    "print(\"Bronze products count:\", bronze_products.count())"
   ]
  },
  {
   "cell_type": "markdown",
   "id": "0ccf6275-b8c2-4ae6-9648-810a1f22c5eb",
   "metadata": {},
   "source": [
    "# ---------------------------\n",
    "# SILVER Layer:\n",
    "# -----------------------------"
   ]
  },
  {
   "cell_type": "markdown",
   "id": "31c151a1-54cb-437d-806d-d8b4ca1f66c2",
   "metadata": {},
   "source": [
    "#### Load bronze"
   ]
  },
  {
   "cell_type": "code",
   "execution_count": 7,
   "id": "e6d3d11e-3cd7-418f-9122-752bc99e7d66",
   "metadata": {},
   "outputs": [],
   "source": [
    "\n",
    "    products = spark.read.parquet(f\"{BRONZE_PATH}/products\")\n",
    "    categories = spark.read.parquet(f\"{BRONZE_PATH}/categories\")\n",
    "    inventory = spark.read.parquet(f\"{BRONZE_PATH}/inventory\")\n",
    "    reviews = spark.read.parquet(f\"{BRONZE_PATH}/reviews\")\n",
    "    orders = spark.read.parquet(f\"{BRONZE_PATH}/orders\")\n",
    "    order_items = spark.read.parquet(f\"{BRONZE_PATH}/order_items\")\n",
    "    suppliers = spark.read.parquet(f\"{BRONZE_PATH}/suppliers\")\n",
    "    product_suppliers = spark.read.parquet(f\"{BRONZE_PATH}/product_suppliers\")\n"
   ]
  },
  {
   "cell_type": "markdown",
   "id": "0da241dd-0599-4f10-9bde-882221a154b3",
   "metadata": {},
   "source": [
    " #### 1) Products: cast types, enforce not-null sku, dedupe by sku keeping latest updated_at"
   ]
  },
  {
   "cell_type": "code",
   "execution_count": 8,
   "id": "de6f3f28-dafb-4409-b9b6-3179f3f51c24",
   "metadata": {},
   "outputs": [],
   "source": [
    "  p = (products.withColumn(\"product_id\", F.col(\"product_id\").cast(LongType())) \\\n",
    "                .withColumn(\"sku\", F.col(\"sku\").cast(StringType())) \\\n",
    "                .withColumn(\"name\", F.col(\"name\").cast(StringType())) \\\n",
    "                .withColumn(\"price\", F.col(\"price\").cast(DecimalType(12,2))) \\\n",
    "                .withColumn(\"category_id\", F.col(\"category_id\").cast(LongType())) \\\n",
    "                .withColumn(\"created_at\", F.to_timestamp(\"created_at\")) \\\n",
    "                .withColumn(\"updated_at\", F.to_timestamp(\"updated_at\")))"
   ]
  },
  {
   "cell_type": "markdown",
   "id": "ef220b50-6207-4f3e-a1aa-e3545cd0b517",
   "metadata": {},
   "source": [
    " #### Filter out rows without SKU or name or price <= 0"
   ]
  },
  {
   "cell_type": "code",
   "execution_count": 9,
   "id": "0c8e1399-b99e-4bb9-a735-7366f51e13c1",
   "metadata": {},
   "outputs": [],
   "source": [
    "    p = p.filter(F.col(\"sku\").isNotNull() & F.col(\"name\").isNotNull() & (F.col(\"price\") > 0))"
   ]
  },
  {
   "cell_type": "markdown",
   "id": "54e1d204-09b8-41ce-8df2-5f2fc100e244",
   "metadata": {},
   "source": [
    "#### Deduplicate: keep max(updated_at) per sku"
   ]
  },
  {
   "cell_type": "code",
   "execution_count": 10,
   "id": "b7f1c88a-cf67-4890-96ac-6545944a9eda",
   "metadata": {},
   "outputs": [],
   "source": [
    "window_spec = Window.partitionBy(\"sku\").orderBy(F.col(\"updated_at\").desc())\n",
    "\n",
    "# Add row_number and keep only first row per SKU\n",
    "p = (p.withColumn(\"rn\", F.row_number().over(window_spec))\n",
    "       .filter(F.col(\"rn\") == 1)\n",
    "       .drop(\"rn\"))"
   ]
  },
  {
   "cell_type": "code",
   "execution_count": 11,
   "id": "59d462f1-14ca-4e27-bcc9-35c6736e8b4a",
   "metadata": {},
   "outputs": [
    {
     "name": "stdout",
     "output_type": "stream",
     "text": [
      "Wrote silver products: 1000\n"
     ]
    }
   ],
   "source": [
    "p.write.mode(\"overwrite\").parquet(f\"{SILVER_PATH}/products\")\n",
    "print(\"Wrote silver products:\", p.count())"
   ]
  },
  {
   "cell_type": "markdown",
   "id": "514f69ee-f7aa-489a-9a03-667bb6ca30b4",
   "metadata": {},
   "source": [
    "#### 2) Categories: clean names, ensure parent ids valid (null if not)"
   ]
  },
  {
   "cell_type": "code",
   "execution_count": 12,
   "id": "90faa0e5-d048-464d-aa6d-aaf0b7c89d80",
   "metadata": {},
   "outputs": [
    {
     "name": "stdout",
     "output_type": "stream",
     "text": [
      "Wrote silver categories: 10\n"
     ]
    }
   ],
   "source": [
    "c = categories.withColumn(\"category_id\", F.col(\"category_id\").cast(LongType())) \\\n",
    "                  .withColumn(\"name\", F.trim(F.col(\"name\"))) \\\n",
    "                  .withColumn(\"parent_id\", F.col(\"parent_id\").cast(LongType())) \\\n",
    "                  .withColumn(\"created_at\", F.to_timestamp(\"created_at\"))\n",
    "    \n",
    "valid_parents = [r.category_id for r in c.select(\"category_id\").collect()]\n",
    "c = c.withColumn(\"parent_id\", F.when(F.col(\"parent_id\").isin(valid_parents), F.col(\"parent_id\")).otherwise(F.lit(None)))\n",
    "c.write.mode(\"overwrite\").parquet(f\"{SILVER_PATH}/categories\")\n",
    "print(\"Wrote silver categories:\", c.count())"
   ]
  },
  {
   "cell_type": "markdown",
   "id": "b700d306-73e1-4f92-92b0-d97fdab4a1b2",
   "metadata": {},
   "source": [
    "#### 3) Inventory: ensure stock_qty >= 0, cast types"
   ]
  },
  {
   "cell_type": "code",
   "execution_count": 13,
   "id": "c88c9e8d-15ff-4d78-be6f-5d87d01bcf99",
   "metadata": {},
   "outputs": [
    {
     "name": "stdout",
     "output_type": "stream",
     "text": [
      "Wrote silver inventory: 1000\n"
     ]
    }
   ],
   "source": [
    "inv = inventory.withColumn(\"inventory_id\", F.col(\"inventory_id\").cast(LongType())) \\\n",
    "                   .withColumn(\"product_id\", F.col(\"product_id\").cast(LongType())) \\\n",
    "                   .withColumn(\"warehouse_id\", F.col(\"warehouse_id\").cast(LongType())) \\\n",
    "                   .withColumn(\"stock_qty\", F.coalesce(F.col(\"stock_qty\").cast(IntegerType()), F.lit(0))) \\\n",
    "                   .withColumn(\"last_updated\", F.to_timestamp(\"last_updated\"))\n",
    "inv = inv.filter(F.col(\"stock_qty\") >= 0)\n",
    "inv.write.mode(\"overwrite\").parquet(f\"{SILVER_PATH}/inventory\")\n",
    "print(\"Wrote silver inventory:\", inv.count())"
   ]
  },
  {
   "cell_type": "markdown",
   "id": "999a7ad2-9774-4f61-8763-b9fd8a89d87d",
   "metadata": {},
   "source": [
    "#### 4) Reviews: ensure rating 1..5"
   ]
  },
  {
   "cell_type": "code",
   "execution_count": 14,
   "id": "386fa9ef-9853-4269-8c58-210e0479f19c",
   "metadata": {},
   "outputs": [
    {
     "name": "stdout",
     "output_type": "stream",
     "text": [
      "Wrote silver reviews: 5000\n"
     ]
    }
   ],
   "source": [
    "    rev = reviews.withColumn(\"review_id\", F.col(\"review_id\").cast(LongType())) \\\n",
    "                 .withColumn(\"product_id\", F.col(\"product_id\").cast(LongType())) \\\n",
    "                 .withColumn(\"user_id\", F.col(\"user_id\").cast(LongType())) \\\n",
    "                 .withColumn(\"rating\", F.coalesce(F.col(\"rating\").cast(IntegerType()), F.lit(0))) \\\n",
    "                 .withColumn(\"created_at\", F.to_timestamp(\"created_at\"))\n",
    "    rev = rev.filter((F.col(\"rating\") >= 1) & (F.col(\"rating\") <= 5))\n",
    "    rev.write.mode(\"overwrite\").parquet(f\"{SILVER_PATH}/reviews\")\n",
    "    print(\"Wrote silver reviews:\", rev.count())"
   ]
  },
  {
   "cell_type": "markdown",
   "id": "25e31387-f8be-4796-8e1d-9df664318234",
   "metadata": {},
   "source": [
    "#### 5) Orders + order_items: cast + keep only orders referenced by order_items"
   ]
  },
  {
   "cell_type": "code",
   "execution_count": 15,
   "id": "9f450a62-78b6-4a22-93d3-eef5967309e7",
   "metadata": {},
   "outputs": [
    {
     "name": "stdout",
     "output_type": "stream",
     "text": [
      "Wrote silver orders: 2000 order_items: 5899\n"
     ]
    }
   ],
   "source": [
    "    o = orders.withColumn(\"order_id\", F.col(\"order_id\").cast(LongType())) \\\n",
    "              .withColumn(\"user_id\", F.col(\"user_id\").cast(LongType())) \\\n",
    "              .withColumn(\"order_date\", F.to_timestamp(\"order_date\")) \\\n",
    "              .withColumn(\"total_amount\", F.col(\"total_amount\").cast(DecimalType(12,2)))\n",
    "    oi = order_items.withColumn(\"order_item_id\", F.col(\"order_item_id\").cast(LongType())) \\\n",
    "                    .withColumn(\"order_id\", F.col(\"order_id\").cast(LongType())) \\\n",
    "                    .withColumn(\"product_id\", F.col(\"product_id\").cast(LongType())) \\\n",
    "                    .withColumn(\"quantity\", F.col(\"quantity\").cast(IntegerType())) \\\n",
    "                    .withColumn(\"price\", F.col(\"price\").cast(DecimalType(12,2)))\n",
    "    # Filter order_items with valid product ids and orders\n",
    "    valid_orders = [r.order_id for r in o.select(\"order_id\").collect()]\n",
    "    oi = oi.filter(F.col(\"order_id\").isin(valid_orders))\n",
    "    # Recompute order totals from items (optional): join and compute\n",
    "    oi.write.mode(\"overwrite\").parquet(f\"{SILVER_PATH}/order_items\")\n",
    "    o.write.mode(\"overwrite\").parquet(f\"{SILVER_PATH}/orders\")\n",
    "    print(\"Wrote silver orders:\", o.count(), \"order_items:\", oi.count())"
   ]
  },
  {
   "cell_type": "markdown",
   "id": "8a2c6512-7541-483f-aa82-e4d284161d22",
   "metadata": {},
   "source": [
    "#### 6) Suppliers and product_suppliers"
   ]
  },
  {
   "cell_type": "code",
   "execution_count": 16,
   "id": "018ac1d7-d05f-4090-b80f-ebe72aebfd20",
   "metadata": {},
   "outputs": [
    {
     "name": "stdout",
     "output_type": "stream",
     "text": [
      "Wrote silver suppliers: 50 product_suppliers: 1960\n"
     ]
    }
   ],
   "source": [
    "    s = suppliers.withColumn(\"supplier_id\", F.col(\"supplier_id\").cast(LongType())) \\\n",
    "                 .withColumn(\"created_at\", F.to_timestamp(\"created_at\"))\n",
    "    ps = product_suppliers.withColumn(\"product_id\", F.col(\"product_id\").cast(LongType())) \\\n",
    "                          .withColumn(\"supplier_id\", F.col(\"supplier_id\").cast(LongType()))\n",
    "    s.write.mode(\"overwrite\").parquet(f\"{SILVER_PATH}/suppliers\")\n",
    "    ps.write.mode(\"overwrite\").parquet(f\"{SILVER_PATH}/product_suppliers\")\n",
    "    print(\"Wrote silver suppliers:\", s.count(), \"product_suppliers:\", ps.count())"
   ]
  },
  {
   "cell_type": "markdown",
   "id": "6b5a8d3d-9128-4662-bae5-4cde2c0d719c",
   "metadata": {},
   "source": [
    "# ---------------------------\n",
    "# GOLD Layer: Fact/Dim Table\n",
    "# -------------------------------+--"
   ]
  },
  {
   "cell_type": "code",
   "execution_count": 17,
   "id": "ded63c9b-3356-4727-9c84-14d1c9b33dd4",
   "metadata": {},
   "outputs": [],
   "source": [
    "\n",
    "    products = spark.read.parquet(f\"{SILVER_PATH}/products\")\n",
    "    categories = spark.read.parquet(f\"{SILVER_PATH}/categories\")\n",
    "    inventory = spark.read.parquet(f\"{SILVER_PATH}/inventory\")\n",
    "    reviews = spark.read.parquet(f\"{SILVER_PATH}/reviews\")\n",
    "    orders = spark.read.parquet(f\"{SILVER_PATH}/orders\")\n",
    "    order_items = spark.read.parquet(f\"{SILVER_PATH}/order_items\")\n",
    "    suppliers = spark.read.parquet(f\"{SILVER_PATH}/suppliers\")\n",
    "    product_suppliers = spark.read.parquet(f\"{SILVER_PATH}/product_suppliers\")"
   ]
  },
  {
   "cell_type": "markdown",
   "id": "e7cedd5d-7060-4646-9706-e7870b347c8b",
   "metadata": {},
   "source": [
    "#### DIM: dim_products (flatten product + category + supplier list)"
   ]
  },
  {
   "cell_type": "code",
   "execution_count": 18,
   "id": "87fe1a34-2101-4f5b-b009-a8228bcffc57",
   "metadata": {},
   "outputs": [],
   "source": [
    "\n",
    "p = products.alias(\"p\")\n",
    "c = categories.select(\n",
    "        F.col(\"category_id\").alias(\"cat_id\"),\n",
    "        F.col(\"name\").alias(\"category_name\")\n",
    "    ).alias(\"c\")\n",
    "\n",
    "# Base join: products + categories\n",
    "dim_products = (\n",
    "    p.join(c, p.category_id == c.cat_id, \"left\")\n",
    "     .drop(\"category_id\")  # drop only from products\n",
    "     .select(\n",
    "         \"p.product_id\",\n",
    "         \"p.sku\",\n",
    "         \"p.name\",\n",
    "         \"p.description\",\n",
    "         \"p.price\",\n",
    "         \"p.currency\",\n",
    "         \"p.status\",\n",
    "         \"c.category_name\",\n",
    "         \"p.created_at\"\n",
    "     )\n",
    ")\n",
    "\n",
    "# Join supplier_ids (grouped set)\n",
    "prod_sup_join = product_suppliers.groupBy(\"product_id\") \\\n",
    "    .agg(F.collect_set(\"supplier_id\").alias(\"supplier_ids\"))\n",
    "\n",
    "dim_products = (\n",
    "    dim_products.join(prod_sup_join, \"product_id\", \"left\")\n",
    "                .withColumn(\"supplier_ids\", F.coalesce(F.col(\"supplier_ids\"), F.array()))\n",
    ")\n",
    "\n",
    "# Final column order\n",
    "dim_products = dim_products.select(\n",
    "    \"product_id\",\n",
    "    \"sku\",\n",
    "    \"name\",\n",
    "    \"description\",\n",
    "    \"price\",\n",
    "    \"currency\",\n",
    "    \"status\",\n",
    "    \"category_name\",\n",
    "    \"supplier_ids\",\n",
    "    \"created_at\"\n",
    ")"
   ]
  },
  {
   "cell_type": "markdown",
   "id": "8d280c07-90f9-43e2-9b88-ac6be3fedf85",
   "metadata": {},
   "source": [
    " #### write partitioned by status for quick filtering"
   ]
  },
  {
   "cell_type": "code",
   "execution_count": 19,
   "id": "84290538-7b27-493f-aba2-c9e7dd0a5783",
   "metadata": {},
   "outputs": [
    {
     "name": "stdout",
     "output_type": "stream",
     "text": [
      "Wrote dim_products: 1000\n"
     ]
    }
   ],
   "source": [
    "\n",
    "    dim_products.write.mode(\"overwrite\").partitionBy(\"status\").parquet(f\"{GOLD_PATH}/dim_products\")\n",
    "    print(\"Wrote dim_products:\", dim_products.count())"
   ]
  },
  {
   "cell_type": "markdown",
   "id": "5964955f-6c8a-4979-9089-828b12668eb8",
   "metadata": {},
   "source": [
    " #### FACT: fact_sales (aggregate order_items by product_id, date) prepared date dimension columns"
   ]
  },
  {
   "cell_type": "code",
   "execution_count": 20,
   "id": "820cefb9-6dbe-4655-9b0b-44617f9b32b2",
   "metadata": {},
   "outputs": [],
   "source": [
    "oi = order_items.join(orders.select(\"order_id\",\"order_date\"), \"order_id\", \"left\") \\\n",
    "                    .withColumn(\"order_date\", F.to_date(\"order_date\")) \\\n",
    "                    .withColumn(\"sales_amount\", F.expr(\"quantity * price\"))\n",
    "fact_sales = oi.groupBy(\"product_id\", \"order_date\") \\\n",
    "                   .agg(F.sum(\"quantity\").alias(\"qty_sold\"),\n",
    "                        F.sum(\"sales_amount\").alias(\"sales_amount\"),\n",
    "                        F.countDistinct(\"order_id\").alias(\"order_count\"))"
   ]
  },
  {
   "cell_type": "markdown",
   "id": "ed427bb7-b1ca-469b-a253-ceada8842f5d",
   "metadata": {},
   "source": [
    " #### partition by year/month for query pruning"
   ]
  },
  {
   "cell_type": "code",
   "execution_count": 21,
   "id": "f71df69e-82fb-4304-8980-3de6e58b8843",
   "metadata": {},
   "outputs": [
    {
     "name": "stdout",
     "output_type": "stream",
     "text": [
      "Wrote fact_sales: 5826\n"
     ]
    }
   ],
   "source": [
    "    fact_sales = fact_sales.withColumn(\"year\", F.year(\"order_date\")) \\\n",
    "                           .withColumn(\"month\", F.month(\"order_date\"))\n",
    "    fact_sales.write.mode(\"overwrite\").partitionBy(\"year\",\"month\").parquet(f\"{GOLD_PATH}/fact_sales\")\n",
    "    print(\"Wrote fact_sales:\" , fact_sales.count())"
   ]
  },
  {
   "cell_type": "markdown",
   "id": "271d08d5-1d3d-4e71-895f-b5d3dce7d4c2",
   "metadata": {},
   "source": [
    "#### FACT: fact_reviews (avg rating and counts)"
   ]
  },
  {
   "cell_type": "code",
   "execution_count": 22,
   "id": "db6d1bdb-99c7-49fc-a695-c0c30033967c",
   "metadata": {},
   "outputs": [
    {
     "name": "stdout",
     "output_type": "stream",
     "text": [
      "Wrote fact_reviews: 990\n"
     ]
    }
   ],
   "source": [
    "    fact_reviews = reviews.groupBy(\"product_id\") \\\n",
    "                          .agg(F.count(\"*\").alias(\"review_count\"),\n",
    "                               F.round(F.avg(\"rating\"),2).alias(\"avg_rating\"))\n",
    "    fact_reviews.write.mode(\"overwrite\").parquet(f\"{GOLD_PATH}/fact_reviews\")\n",
    "    print(\"Wrote fact_reviews:\", fact_reviews.count())"
   ]
  },
  {
   "cell_type": "markdown",
   "id": "7e3b48a7-e7ef-4474-8829-86a47fdfdf4b",
   "metadata": {},
   "source": [
    "#### FACT: fact_inventory (latest snapshot per product)"
   ]
  },
  {
   "cell_type": "code",
   "execution_count": 23,
   "id": "312177ff-4a77-4cd2-a819-ebdae6c41c1a",
   "metadata": {},
   "outputs": [
    {
     "name": "stdout",
     "output_type": "stream",
     "text": [
      "Wrote fact_inventory: 1000\n"
     ]
    }
   ],
   "source": [
    "\n",
    "    w = Window.partitionBy(\"product_id\").orderBy(F.col(\"last_updated\").desc())\n",
    "    inv_latest = inventory.withColumn(\"rn\", F.row_number().over(w)).filter(F.col(\"rn\") == 1).drop(\"rn\")\n",
    "    inv_snapshot = inv_latest.withColumn(\"snapshot_date\", F.to_date(\"last_updated\"))\n",
    "    inv_snapshot.write.mode(\"overwrite\").parquet(f\"{GOLD_PATH}/fact_inventory\")\n",
    "    print(\"Wrote fact_inventory:\", inv_snapshot.count())"
   ]
  },
  {
   "cell_type": "markdown",
   "id": "9e6276e7-76fa-4df6-9f31-c10059aa4238",
   "metadata": {},
   "source": [
    "### Testing the flow"
   ]
  },
  {
   "cell_type": "markdown",
   "id": "aab3eb84-2d6a-4f2a-909b-8d1f872819be",
   "metadata": {},
   "source": [
    "#### 1) Bronze checks"
   ]
  },
  {
   "cell_type": "code",
   "execution_count": 24,
   "id": "b39728d7-789a-4580-aba9-6536c62741d7",
   "metadata": {},
   "outputs": [
    {
     "name": "stdout",
     "output_type": "stream",
     "text": [
      "-- Bronze basic counts\n",
      "products rows: 1000\n",
      "orders rows: 2000\n",
      "order_items rows: 5899\n",
      "reviews rows: 5000\n",
      "inventory rows: 1000\n"
     ]
    }
   ],
   "source": [
    "print(\"-- Bronze basic counts\")\n",
    "for t in [\"products\",\"orders\",\"order_items\",\"reviews\",\"inventory\"]:\n",
    "    df = spark.read.parquet(f\"{BRONZE_PATH}/{t}\")\n",
    "    print(t, \"rows:\", df.count())"
   ]
  },
  {
   "cell_type": "markdown",
   "id": "7c5ab993-87d3-43e6-bfa2-5add332dbf83",
   "metadata": {},
   "source": [
    "#### 2) Silver checks (data quality)"
   ]
  },
  {
   "cell_type": "code",
   "execution_count": 25,
   "id": "463fe53d-8341-4e34-b854-6804fd095edf",
   "metadata": {},
   "outputs": [
    {
     "name": "stdout",
     "output_type": "stream",
     "text": [
      "\n",
      "-- Silver data quality checks\n",
      "duplicate SKUs in silver.products: 0\n",
      "null skus: 0\n",
      "non-positive prices: 0\n"
     ]
    }
   ],
   "source": [
    "    print(\"\\n-- Silver data quality checks\")\n",
    "    products = spark.read.parquet(f\"{SILVER_PATH}/products\")\n",
    "    # duplicates by sku?\n",
    "    dup_count = products.groupBy(\"sku\").count().filter(\"count > 1\").count()\n",
    "    print(\"duplicate SKUs in silver.products:\", dup_count)\n",
    "    null_skus = products.filter(F.col(\"sku\").isNull()).count()\n",
    "    print(\"null skus:\", null_skus)\n",
    "    negative_prices = products.filter(F.col(\"price\") <= 0).count()\n",
    "    print(\"non-positive prices:\", negative_prices)"
   ]
  },
  {
   "cell_type": "markdown",
   "id": "c41751cb-9c98-49bb-88c0-b107682dafda",
   "metadata": {},
   "source": [
    " #### 3) Silver sample queries for performance\n",
    " "
   ]
  },
  {
   "cell_type": "code",
   "execution_count": 26,
   "id": "ac77b04d-4ad4-40cc-a60e-2bacc064fa4b",
   "metadata": {},
   "outputs": [
    {
     "name": "stdout",
     "output_type": "stream",
     "text": [
      "\n",
      "-- Silver example queries (use caching for repeated runs)\n"
     ]
    }
   ],
   "source": [
    "    print(\"\\n-- Silver example queries (use caching for repeated runs)\")\n",
    "    products.createOrReplaceTempView(\"silver_products\")\n",
    "    inventory = spark.read.parquet(f\"{SILVER_PATH}/inventory\")\n",
    "    inventory.createOrReplaceTempView(\"silver_inventory\")"
   ]
  },
  {
   "cell_type": "markdown",
   "id": "1c9182eb-c69c-42f6-ba7e-ee9b7341516b",
   "metadata": {},
   "source": [
    "#### Query 1: Products with low stock (join + filter)"
   ]
  },
  {
   "cell_type": "code",
   "execution_count": 27,
   "id": "38046c9e-2008-45b6-9ec6-0ff45bc5e13b",
   "metadata": {},
   "outputs": [
    {
     "name": "stdout",
     "output_type": "stream",
     "text": [
      "+----------+-------+-------------------+---------+\n",
      "|product_id|sku    |name               |stock_qty|\n",
      "+----------+-------+-------------------+---------+\n",
      "|898       |SKU1897|Because Just       |0        |\n",
      "|783       |SKU1782|Also Spend         |0        |\n",
      "|817       |SKU1816|Thousand Firm      |0        |\n",
      "|561       |SKU1560|Or His             |1        |\n",
      "|730       |SKU1729|Space Purpose      |1        |\n",
      "|217       |SKU1216|Half Store         |2        |\n",
      "|621       |SKU1620|Degree Key         |2        |\n",
      "|134       |SKU1133|Thought Staff      |2        |\n",
      "|977       |SKU1976|Mission No         |2        |\n",
      "|82        |SKU1081|Collection Specific|3        |\n",
      "+----------+-------+-------------------+---------+\n",
      "only showing top 10 rows\n",
      "\n"
     ]
    }
   ],
   "source": [
    "\n",
    "    qA = spark.sql(\"\"\"\n",
    "      SELECT p.product_id, p.sku, p.name, i.stock_qty\n",
    "      FROM silver_products p\n",
    "      JOIN silver_inventory i ON p.product_id = i.product_id\n",
    "      WHERE i.stock_qty < 10\n",
    "      ORDER BY i.stock_qty ASC\n",
    "      LIMIT 50\n",
    "    \"\"\")\n",
    "    qA.show(10, truncate=False)"
   ]
  },
  {
   "cell_type": "markdown",
   "id": "a642fc2b-f4eb-424c-aca2-61248204231d",
   "metadata": {},
   "source": [
    "#### Query 2: Top 10 products by price (simple)"
   ]
  },
  {
   "cell_type": "code",
   "execution_count": 28,
   "id": "750fe281-a40a-484b-9af1-81f1a66c35f0",
   "metadata": {},
   "outputs": [
    {
     "name": "stdout",
     "output_type": "stream",
     "text": [
      "+-------+----------------+------+\n",
      "|sku    |name            |price |\n",
      "+-------+----------------+------+\n",
      "|SKU1531|Them Home       |499.86|\n",
      "|SKU1847|North Forward   |498.45|\n",
      "|SKU1532|Call Charge     |498.34|\n",
      "|SKU1475|Still Style     |496.52|\n",
      "|SKU1390|Foot Help       |495.30|\n",
      "|SKU1261|School Receive  |495.08|\n",
      "|SKU1705|Tell Media      |495.03|\n",
      "|SKU1518|Hair Agency     |493.70|\n",
      "|SKU1069|Knowledge Decade|493.51|\n",
      "|SKU1441|Now Few         |493.39|\n",
      "+-------+----------------+------+\n",
      "\n"
     ]
    }
   ],
   "source": [
    "    qB = spark.sql(\"\"\"\n",
    "      SELECT sku, name, price FROM silver_products\n",
    "      ORDER BY price DESC\n",
    "      LIMIT 10\n",
    "    \"\"\")\n",
    "    qB.show(10, truncate=False)"
   ]
  },
  {
   "cell_type": "markdown",
   "id": "8fbfb268-ca27-4691-adc1-d8c32382688f",
   "metadata": {},
   "source": [
    "#### 4) Gold query performance tests (aggregations & partition pruning)"
   ]
  },
  {
   "cell_type": "code",
   "execution_count": 29,
   "id": "e081c28e-ce95-4e4a-91a4-68f5da783501",
   "metadata": {},
   "outputs": [
    {
     "name": "stdout",
     "output_type": "stream",
     "text": [
      "\n",
      "-- Gold queries (fact & dim)\n"
     ]
    }
   ],
   "source": [
    "    print(\"\\n-- Gold queries (fact & dim)\")"
   ]
  },
  {
   "cell_type": "markdown",
   "id": "18bff2b0-431b-4a3a-accc-61a401763b90",
   "metadata": {},
   "source": [
    "#### Query 3: top selling products overall (join with dim_products)"
   ]
  },
  {
   "cell_type": "code",
   "execution_count": 30,
   "id": "438b1350-e142-4808-bf04-b8bc373a8516",
   "metadata": {},
   "outputs": [
    {
     "name": "stdout",
     "output_type": "stream",
     "text": [
      "+----------+-------+-------------------+-----------+---------+\n",
      "|product_id|sku    |name               |total_sales|total_qty|\n",
      "+----------+-------+-------------------+-----------+---------+\n",
      "|948       |SKU1947|Government Yourself|35139.78   |78       |\n",
      "|44        |SKU1043|Trouble Simply     |35043.47   |77       |\n",
      "|248       |SKU1247|Foot News          |33844.30   |70       |\n",
      "|474       |SKU1473|Life Process       |30782.28   |69       |\n",
      "|262       |SKU1261|School Receive     |28714.64   |58       |\n",
      "|396       |SKU1395|Picture Mr         |27943.20   |60       |\n",
      "|712       |SKU1711|Until System       |27585.28   |92       |\n",
      "|306       |SKU1305|Guess Conference   |27330.80   |56       |\n",
      "|229       |SKU1228|Enter Size         |26793.60   |60       |\n",
      "|89        |SKU1088|South Necessary    |26206.03   |59       |\n",
      "|273       |SKU1272|Remember Begin     |26052.00   |60       |\n",
      "|442       |SKU1441|Now Few            |25656.28   |52       |\n",
      "|52        |SKU1051|Light Sea          |25264.85   |65       |\n",
      "|447       |SKU1446|Relationship Green |25146.57   |51       |\n",
      "|535       |SKU1534|Structure She      |25067.25   |65       |\n",
      "|486       |SKU1485|Treatment Little   |24808.85   |55       |\n",
      "|220       |SKU1219|Relate Head        |24671.46   |58       |\n",
      "|397       |SKU1396|Develop Nature     |24504.87   |57       |\n",
      "|198       |SKU1197|Sit Series         |24249.78   |54       |\n",
      "|509       |SKU1508|Control Yard       |24232.65   |51       |\n",
      "+----------+-------+-------------------+-----------+---------+\n",
      "\n"
     ]
    }
   ],
   "source": [
    "    fact_sales = spark.read.parquet(f\"{GOLD_PATH}/fact_sales\")\n",
    "    dim_products = spark.read.parquet(f\"{GOLD_PATH}/dim_products\")\n",
    "    fact_sales.createOrReplaceTempView(\"gold_fact_sales\")\n",
    "    dim_products.createOrReplaceTempView(\"gold_dim_products\")\n",
    "    q1 = spark.sql(\"\"\"\n",
    "      SELECT d.product_id, d.sku, d.name, SUM(f.sales_amount) as total_sales, SUM(f.qty_sold) as total_qty\n",
    "      FROM gold_fact_sales f\n",
    "      JOIN gold_dim_products d ON f.product_id = d.product_id\n",
    "      GROUP BY d.product_id, d.sku, d.name\n",
    "      ORDER BY total_sales DESC\n",
    "      LIMIT 20\n",
    "    \"\"\")\n",
    "    q1.show(20, truncate=False)"
   ]
  },
  {
   "cell_type": "markdown",
   "id": "141480b6-f2c8-416b-b2a6-77644a18bdd9",
   "metadata": {},
   "source": [
    "#### Query 4: avg rating per category (join fact_reviews -> dim_products -> categories)\n",
    "    "
   ]
  },
  {
   "cell_type": "code",
   "execution_count": 31,
   "id": "03e446f8-8ee7-4f4c-b6e8-85dadba5d165",
   "metadata": {},
   "outputs": [
    {
     "name": "stdout",
     "output_type": "stream",
     "text": [
      "+--------+----------+-------------+\n",
      "|category|avg_rating|total_reviews|\n",
      "+--------+----------+-------------+\n",
      "|Capital |3.08      |523          |\n",
      "|Hot     |3.02      |539          |\n",
      "|Before  |3.02      |428          |\n",
      "|Create  |2.98      |502          |\n",
      "|Animal  |2.98      |470          |\n",
      "|Force   |2.97      |430          |\n",
      "|Wind    |2.95      |600          |\n",
      "|Series  |2.92      |470          |\n",
      "|Large   |2.9       |478          |\n",
      "|Anyone  |2.89      |560          |\n",
      "+--------+----------+-------------+\n",
      "\n"
     ]
    }
   ],
   "source": [
    "    fact_reviews = spark.read.parquet(f\"{GOLD_PATH}/fact_reviews\")\n",
    "    categories = spark.read.parquet(f\"{SILVER_PATH}/categories\")\n",
    "    fact_reviews.createOrReplaceTempView(\"gold_fact_reviews\")\n",
    "    categories.createOrReplaceTempView(\"silver_categories\")\n",
    "    spark.sql(\"\"\"\n",
    "      SELECT c.name as category, ROUND(AVG(fr.avg_rating),2) as avg_rating, SUM(fr.review_count) as total_reviews\n",
    "      FROM gold_fact_reviews fr\n",
    "      JOIN gold_dim_products d ON fr.product_id = d.product_id\n",
    "      JOIN silver_categories c ON d.category_name = c.name\n",
    "      GROUP BY c.name\n",
    "      ORDER BY avg_rating DESC\n",
    "      LIMIT 20\n",
    "    \"\"\").show(20,truncate=False)"
   ]
  },
  {
   "cell_type": "markdown",
   "id": "e5ac4aa7-6619-433d-a81a-72cd641f60f5",
   "metadata": {},
   "source": [
    "#### Query 5: filter by particular year/month\n",
    "    "
   ]
  },
  {
   "cell_type": "code",
   "execution_count": 32,
   "id": "db9041ee-fa7d-44fd-88e5-fefcf7a6b547",
   "metadata": {},
   "outputs": [
    {
     "name": "stdout",
     "output_type": "stream",
     "text": [
      "\n",
      "-- filter by particular year/month\n",
      "+----------+----------+--------+------------+-----------+----+-----+\n",
      "|product_id|order_date|qty_sold|sales_amount|order_count|year|month|\n",
      "+----------+----------+--------+------------+-----------+----+-----+\n",
      "|86        |2025-09-01|8       |1327.76     |1          |2025|9    |\n",
      "|957       |2025-09-02|2       |523.72      |1          |2025|9    |\n",
      "|349       |2025-09-02|7       |1333.01     |1          |2025|9    |\n",
      "|23        |2025-09-05|7       |1047.27     |1          |2025|9    |\n",
      "|717       |2025-09-03|7       |2913.12     |1          |2025|9    |\n",
      "|167       |2025-09-03|3       |491.37      |1          |2025|9    |\n",
      "|22        |2025-09-01|1       |74.05       |1          |2025|9    |\n",
      "|306       |2025-09-05|10      |4880.50     |1          |2025|9    |\n",
      "|635       |2025-09-06|3       |174.15      |1          |2025|9    |\n",
      "|100       |2025-09-06|1       |58.41       |1          |2025|9    |\n",
      "|295       |2025-09-04|8       |543.12      |1          |2025|9    |\n",
      "|871       |2025-09-06|7       |1328.53     |1          |2025|9    |\n",
      "|932       |2025-09-03|4       |1673.16     |1          |2025|9    |\n",
      "|235       |2025-09-03|10      |1016.50     |1          |2025|9    |\n",
      "|911       |2025-09-05|7       |2080.40     |1          |2025|9    |\n",
      "|441       |2025-09-01|7       |328.93      |1          |2025|9    |\n",
      "|509       |2025-09-05|4       |1900.60     |1          |2025|9    |\n",
      "|234       |2025-09-05|3       |746.40      |1          |2025|9    |\n",
      "|486       |2025-09-07|2       |902.14      |1          |2025|9    |\n",
      "|766       |2025-09-05|7       |2009.70     |1          |2025|9    |\n",
      "+----------+----------+--------+------------+-----------+----+-----+\n",
      "only showing top 20 rows\n",
      "\n"
     ]
    }
   ],
   "source": [
    "print(\"\\n-- filter by particular year/month\")\n",
    "filtered_sales = fact_sales.filter((F.col(\"year\") == 2025) & (F.col(\"month\") == 9))\n",
    "filtered_sales.show(20, truncate=False)"
   ]
  },
  {
   "cell_type": "markdown",
   "id": "bab609c9-514d-4538-b16d-a72cda4789ef",
   "metadata": {},
   "source": [
    "#### Query 6: Avg Rating per Category"
   ]
  },
  {
   "cell_type": "code",
   "execution_count": 33,
   "id": "9dbd83df-eef4-4454-8d40-99d0d366a6f0",
   "metadata": {},
   "outputs": [
    {
     "name": "stdout",
     "output_type": "stream",
     "text": [
      "\n",
      "-- Avg Rating per Category\n",
      "+-------------+----------+-------------+\n",
      "|category_name|avg_rating|total_reviews|\n",
      "+-------------+----------+-------------+\n",
      "|Capital      |3.08      |523          |\n",
      "|Hot          |3.02      |539          |\n",
      "|Before       |3.02      |428          |\n",
      "|Create       |2.98      |502          |\n",
      "|Animal       |2.98      |470          |\n",
      "|Force        |2.97      |430          |\n",
      "|Wind         |2.95      |600          |\n",
      "|Series       |2.92      |470          |\n",
      "|Large        |2.9       |478          |\n",
      "|Anyone       |2.89      |560          |\n",
      "+-------------+----------+-------------+\n",
      "\n"
     ]
    }
   ],
   "source": [
    "    print(\"\\n-- Avg Rating per Category\")\n",
    "    fact_reviews = spark.read.parquet(\"/home/jovyan/data/lake/gold/fact_reviews\")\n",
    "\n",
    "    avg_rating_cat = (fact_reviews.join(dim_products, \"product_id\")\n",
    "                  .groupBy(\"category_name\")\n",
    "                  .agg(F.round(F.avg(\"avg_rating\"), 2).alias(\"avg_rating\"),\n",
    "                       F.sum(\"review_count\").alias(\"total_reviews\"))\n",
    "                  .orderBy(F.desc(\"avg_rating\"))\n",
    "                  .limit(20))\n",
    "    avg_rating_cat.show(truncate=False)"
   ]
  },
  {
   "cell_type": "markdown",
   "id": "3d0bdd63-a9ac-49e6-b30a-3aebd7dd603b",
   "metadata": {},
   "source": [
    "# ------------------------+\n",
    "# Main flow               |\n",
    "# ------------------------+"
   ]
  },
  {
   "cell_type": "code",
   "execution_count": 34,
   "id": "226bef2a-fa2c-448a-bf34-68802bf1f6ce",
   "metadata": {},
   "outputs": [
    {
     "name": "stdout",
     "output_type": "stream",
     "text": [
      "=== Bronze ingest ===\n",
      "Wrote bronze table products -> /home/jovyan/data/lake/bronze/products (rows=1000)\n",
      "Wrote bronze table categories -> /home/jovyan/data/lake/bronze/categories (rows=10)\n",
      "Wrote bronze table inventory -> /home/jovyan/data/lake/bronze/inventory (rows=1000)\n",
      "Wrote bronze table reviews -> /home/jovyan/data/lake/bronze/reviews (rows=5000)\n",
      "Wrote bronze table orders -> /home/jovyan/data/lake/bronze/orders (rows=2000)\n",
      "Wrote bronze table order_items -> /home/jovyan/data/lake/bronze/order_items (rows=5899)\n",
      "Wrote bronze table suppliers -> /home/jovyan/data/lake/bronze/suppliers (rows=50)\n",
      "Wrote bronze table product_suppliers -> /home/jovyan/data/lake/bronze/product_suppliers (rows=1960)\n",
      "=== silver_transform() ===\n",
      "=== gold_build() ===\n",
      "ETL completed.\n"
     ]
    }
   ],
   "source": [
    "\n",
    "if __name__ == \"__main__\":\n",
    "    bronze_ingest()\n",
    "    print(\"=== silver_transform() ===\")\n",
    "    print(\"=== gold_build() ===\")\n",
    "    print(\"ETL completed.\")\n",
    "    spark.stop()"
   ]
  },
  {
   "cell_type": "code",
   "execution_count": null,
   "id": "df7f4192-0875-455f-bb4c-8d67058cdfbf",
   "metadata": {},
   "outputs": [],
   "source": []
  }
 ],
 "metadata": {
  "kernelspec": {
   "display_name": "Python 3 (ipykernel)",
   "language": "python",
   "name": "python3"
  },
  "language_info": {
   "codemirror_mode": {
    "name": "ipython",
    "version": 3
   },
   "file_extension": ".py",
   "mimetype": "text/x-python",
   "name": "python",
   "nbconvert_exporter": "python",
   "pygments_lexer": "ipython3",
   "version": "3.11.6"
  }
 },
 "nbformat": 4,
 "nbformat_minor": 5
}
