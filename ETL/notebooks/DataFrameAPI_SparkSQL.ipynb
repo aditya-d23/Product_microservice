{
 "cells": [
  {
   "cell_type": "code",
   "execution_count": 1,
   "id": "ad4d87b0-5efa-49b3-ae93-354fb0421090",
   "metadata": {},
   "outputs": [
    {
     "data": {
      "text/plain": [
       "(<pyspark.sql.session.SparkSession at 0x7ad6a40a7f90>, '3.5.0')"
      ]
     },
     "execution_count": 1,
     "metadata": {},
     "output_type": "execute_result"
    }
   ],
   "source": [
    "from pyspark.sql import SparkSession\n",
    "\n",
    "spark = SparkSession.builder.getOrCreate()\n",
    "spark, spark.version\n"
   ]
  },
  {
   "cell_type": "code",
   "execution_count": 2,
   "id": "b8e93e49-9c2e-4b7d-af28-9c1ea98ff26b",
   "metadata": {},
   "outputs": [
    {
     "data": {
      "text/plain": [
       "499999500000"
      ]
     },
     "execution_count": 2,
     "metadata": {},
     "output_type": "execute_result"
    }
   ],
   "source": [
    "sc = spark.sparkContext\n",
    "sc.parallelize(range(1000000)).sum()\n"
   ]
  },
  {
   "cell_type": "code",
   "execution_count": 3,
   "id": "53e51b1b-6f14-4427-bf56-36e3b6bfff60",
   "metadata": {},
   "outputs": [],
   "source": [
    "from pyspark.sql import SparkSession\n",
    "from pyspark.sql import functions as F\n",
    "from pyspark.sql.types import StructType, StructField, IntegerType, StringType, DoubleType, TimestampType\n",
    "     "
   ]
  },
  {
   "cell_type": "code",
   "execution_count": 4,
   "id": "08c03326-bc8e-45f3-b227-8ccd70ac94ed",
   "metadata": {},
   "outputs": [],
   "source": [
    "spark = SparkSession.builder.appName(\"Retail-Data-PySpark\").getOrCreate()\n",
    "INPUT_ROOT = \"/home/jovyan/data\""
   ]
  },
  {
   "cell_type": "code",
   "execution_count": 5,
   "id": "0fc19527-ae10-4931-9a1a-731984bf2adc",
   "metadata": {},
   "outputs": [],
   "source": [
    "orders_schema = StructType([\n",
    "    StructField(\"order_id\", IntegerType(), True),\n",
    "    StructField(\"order_date\", TimestampType(), True),\n",
    "    StructField(\"order_customer_id\", IntegerType(), True),\n",
    "    StructField(\"order_status\", StringType(), True)\n",
    "])\n",
    "\n",
    "order_items_schema = StructType([\n",
    "    StructField(\"order_item_id\", IntegerType(), True),\n",
    "    StructField(\"order_item_order_id\", IntegerType(), True),\n",
    "    StructField(\"order_item_product_id\", IntegerType(), True),\n",
    "    StructField(\"order_item_quantity\", IntegerType(), True),\n",
    "    StructField(\"order_item_subtotal\", DoubleType(), True),\n",
    "    StructField(\"order_item_product_price\", DoubleType(), True)\n",
    "])\n",
    "\n",
    "customers_schema = StructType([\n",
    "    StructField(\"customer_id\", IntegerType(), True),\n",
    "    StructField(\"customer_fname\", StringType(), True),\n",
    "    StructField(\"customer_lname\", StringType(), True),\n",
    "    StructField(\"customer_email\", StringType(), True),\n",
    "    StructField(\"customer_password\", StringType(), True),\n",
    "    StructField(\"customer_street\", StringType(), True),\n",
    "    StructField(\"customer_city\", StringType(), True),\n",
    "    StructField(\"customer_state\", StringType(), True),\n",
    "    StructField(\"customer_zipcode\", StringType(), True)\n",
    "])\n",
    "\n",
    "categories_schema = StructType([\n",
    "    StructField(\"category_id\", IntegerType(), True),\n",
    "    StructField(\"category_department_id\", IntegerType(), True),\n",
    "    StructField(\"category_name\", StringType(), True)\n",
    "])\n",
    "\n",
    "products_schema = StructType([\n",
    "    StructField(\"product_id\", IntegerType(), True),\n",
    "    StructField(\"product_category_id\", IntegerType(), True),\n",
    "    StructField(\"product_name\", StringType(), True),\n",
    "    StructField(\"product_description\", StringType(), True),\n",
    "    StructField(\"product_price\", DoubleType(), True),\n",
    "    StructField(\"product_image\", StringType(), True)\n",
    "])\n",
    "\n",
    "departments_schema = StructType([\n",
    "    StructField(\"department_id\", IntegerType(), True),\n",
    "    StructField(\"department_name\", StringType(), True)\n",
    "])"
   ]
  },
  {
   "cell_type": "code",
   "execution_count": 6,
   "id": "ba0046db-8eed-4943-9dcc-af5d9675280e",
   "metadata": {},
   "outputs": [],
   "source": [
    "orders = spark.read.option(\"header\", False).schema(orders_schema).csv(f\"{INPUT_ROOT}/orders.csv\")\n",
    "order_items = spark.read.option(\"header\", False).schema(order_items_schema).csv(f\"{INPUT_ROOT}/order_items.csv\")\n",
    "customers = spark.read.option(\"header\", False).schema(customers_schema).csv(f\"{INPUT_ROOT}/customers.csv\")\n",
    "categories = spark.read.option(\"header\", False).schema(categories_schema).csv(f\"{INPUT_ROOT}/categories.csv\")\n",
    "products = spark.read.option(\"header\", False).schema(products_schema).csv(f\"{INPUT_ROOT}/products.csv\")\n",
    "departments = spark.read.option(\"header\", False).schema(departments_schema).csv(f\"{INPUT_ROOT}/departments.csv\")"
   ]
  },
  {
   "cell_type": "code",
   "execution_count": 7,
   "id": "6714853d-785c-4c0a-9e7a-479fe1611d3e",
   "metadata": {},
   "outputs": [],
   "source": [
    "orders.createOrReplaceTempView(\"orders\")\n",
    "order_items.createOrReplaceTempView(\"order_items\")\n",
    "customers.createOrReplaceTempView(\"customers\")\n",
    "categories.createOrReplaceTempView(\"categories\")\n",
    "products.createOrReplaceTempView(\"products\")\n",
    "departments.createOrReplaceTempView(\"departments\")"
   ]
  },
  {
   "cell_type": "markdown",
   "id": "33c7fefd-f995-47b6-ad08-db811e351393",
   "metadata": {},
   "source": [
    "### Retail SQL → Spark SQL Queries\n",
    "- Each query is explained with a Markdown cell and executed in Spark SQL using spark.sql()."
   ]
  },
  {
   "cell_type": "markdown",
   "id": "5ab49f3d-48e2-4375-8e3b-0fbf8b430f79",
   "metadata": {},
   "source": [
    "#### 1.Distinct order status"
   ]
  },
  {
   "cell_type": "code",
   "execution_count": 8,
   "id": "051a3376-71c1-4c44-ad1f-a4bc83d149b5",
   "metadata": {},
   "outputs": [
    {
     "name": "stdout",
     "output_type": "stream",
     "text": [
      "+---------------+\n",
      "|   order_status|\n",
      "+---------------+\n",
      "|       CANCELED|\n",
      "|         CLOSED|\n",
      "|       COMPLETE|\n",
      "|        ON_HOLD|\n",
      "| PAYMENT_REVIEW|\n",
      "|        PENDING|\n",
      "|PENDING_PAYMENT|\n",
      "|     PROCESSING|\n",
      "|SUSPECTED_FRAUD|\n",
      "+---------------+\n",
      "\n"
     ]
    }
   ],
   "source": [
    "spark.sql(\"\"\"\n",
    "SELECT DISTINCT order_status\n",
    "FROM orders\n",
    "ORDER BY order_status\n",
    "\"\"\").show()"
   ]
  },
  {
   "cell_type": "markdown",
   "id": "94525856-14fd-464e-bb8b-55feeca4130e",
   "metadata": {},
   "source": [
    "#### 2. Orders with COMPLETE status"
   ]
  },
  {
   "cell_type": "code",
   "execution_count": 9,
   "id": "a300c57d-788a-41aa-b763-076fb32c7740",
   "metadata": {},
   "outputs": [
    {
     "name": "stdout",
     "output_type": "stream",
     "text": [
      "+--------+-------------------+-----------------+------------+\n",
      "|order_id|         order_date|order_customer_id|order_status|\n",
      "+--------+-------------------+-----------------+------------+\n",
      "|       3|2013-07-25 00:00:00|            12111|    COMPLETE|\n",
      "|       5|2013-07-25 00:00:00|            11318|    COMPLETE|\n",
      "|       6|2013-07-25 00:00:00|             7130|    COMPLETE|\n",
      "|       7|2013-07-25 00:00:00|             4530|    COMPLETE|\n",
      "|      15|2013-07-25 00:00:00|             2568|    COMPLETE|\n",
      "|      17|2013-07-25 00:00:00|             2667|    COMPLETE|\n",
      "|      22|2013-07-25 00:00:00|              333|    COMPLETE|\n",
      "|      26|2013-07-25 00:00:00|             7562|    COMPLETE|\n",
      "|      28|2013-07-25 00:00:00|              656|    COMPLETE|\n",
      "|      32|2013-07-25 00:00:00|             3960|    COMPLETE|\n",
      "|      35|2013-07-25 00:00:00|             4840|    COMPLETE|\n",
      "|      45|2013-07-25 00:00:00|             2636|    COMPLETE|\n",
      "|      56|2013-07-25 00:00:00|            10519|    COMPLETE|\n",
      "|      63|2013-07-25 00:00:00|             1148|    COMPLETE|\n",
      "|      65|2013-07-25 00:00:00|             5903|    COMPLETE|\n",
      "|      67|2013-07-25 00:00:00|             1406|    COMPLETE|\n",
      "|      71|2013-07-25 00:00:00|             8646|    COMPLETE|\n",
      "|      72|2013-07-25 00:00:00|             4349|    COMPLETE|\n",
      "|      76|2013-07-25 00:00:00|             6898|    COMPLETE|\n",
      "|      80|2013-07-25 00:00:00|             3007|    COMPLETE|\n",
      "+--------+-------------------+-----------------+------------+\n",
      "only showing top 20 rows\n",
      "\n"
     ]
    }
   ],
   "source": [
    "\n",
    "spark.sql(\"SELECT * FROM orders WHERE order_status='COMPLETE'\").show()"
   ]
  },
  {
   "cell_type": "markdown",
   "id": "9cffef68-ba38-44f1-b76b-d55221d82354",
   "metadata": {},
   "source": [
    "#### 3. Orders with CLOSED status"
   ]
  },
  {
   "cell_type": "code",
   "execution_count": 10,
   "id": "b07d7027-f18e-46ff-9441-0adaabde1127",
   "metadata": {},
   "outputs": [
    {
     "name": "stdout",
     "output_type": "stream",
     "text": [
      "+--------+-------------------+-----------------+------------+\n",
      "|order_id|         order_date|order_customer_id|order_status|\n",
      "+--------+-------------------+-----------------+------------+\n",
      "|       1|2013-07-25 00:00:00|            11599|      CLOSED|\n",
      "|       4|2013-07-25 00:00:00|             8827|      CLOSED|\n",
      "|      12|2013-07-25 00:00:00|             1837|      CLOSED|\n",
      "|      18|2013-07-25 00:00:00|             1205|      CLOSED|\n",
      "|      24|2013-07-25 00:00:00|            11441|      CLOSED|\n",
      "|      25|2013-07-25 00:00:00|             9503|      CLOSED|\n",
      "|      37|2013-07-25 00:00:00|             5863|      CLOSED|\n",
      "|      51|2013-07-25 00:00:00|            12271|      CLOSED|\n",
      "|      57|2013-07-25 00:00:00|             7073|      CLOSED|\n",
      "|      61|2013-07-25 00:00:00|             4791|      CLOSED|\n",
      "|      62|2013-07-25 00:00:00|             9111|      CLOSED|\n",
      "|      87|2013-07-25 00:00:00|             3065|      CLOSED|\n",
      "|      90|2013-07-25 00:00:00|             9131|      CLOSED|\n",
      "|     101|2013-07-25 00:00:00|             5116|      CLOSED|\n",
      "|     116|2013-07-26 00:00:00|             8763|      CLOSED|\n",
      "|     129|2013-07-26 00:00:00|             9937|      CLOSED|\n",
      "|     133|2013-07-26 00:00:00|            10604|      CLOSED|\n",
      "|     191|2013-07-26 00:00:00|               16|      CLOSED|\n",
      "|     201|2013-07-26 00:00:00|             9055|      CLOSED|\n",
      "|     211|2013-07-26 00:00:00|            10372|      CLOSED|\n",
      "+--------+-------------------+-----------------+------------+\n",
      "only showing top 20 rows\n",
      "\n"
     ]
    }
   ],
   "source": [
    "spark.sql(\"SELECT * FROM orders WHERE order_status='CLOSED'\").show()"
   ]
  },
  {
   "cell_type": "markdown",
   "id": "57f336fd-42f7-4c42-92f5-2f68d8a17450",
   "metadata": {},
   "source": [
    "#### 4. Orders with CLOSED or COMPLETE status"
   ]
  },
  {
   "cell_type": "code",
   "execution_count": 11,
   "id": "14424257-51dd-4619-b158-1ed5f2bf2c46",
   "metadata": {},
   "outputs": [
    {
     "name": "stdout",
     "output_type": "stream",
     "text": [
      "+--------+-------------------+-----------------+------------+\n",
      "|order_id|         order_date|order_customer_id|order_status|\n",
      "+--------+-------------------+-----------------+------------+\n",
      "|       1|2013-07-25 00:00:00|            11599|      CLOSED|\n",
      "|       3|2013-07-25 00:00:00|            12111|    COMPLETE|\n",
      "|       4|2013-07-25 00:00:00|             8827|      CLOSED|\n",
      "|       5|2013-07-25 00:00:00|            11318|    COMPLETE|\n",
      "|       6|2013-07-25 00:00:00|             7130|    COMPLETE|\n",
      "|       7|2013-07-25 00:00:00|             4530|    COMPLETE|\n",
      "|      12|2013-07-25 00:00:00|             1837|      CLOSED|\n",
      "|      15|2013-07-25 00:00:00|             2568|    COMPLETE|\n",
      "|      17|2013-07-25 00:00:00|             2667|    COMPLETE|\n",
      "|      18|2013-07-25 00:00:00|             1205|      CLOSED|\n",
      "|      22|2013-07-25 00:00:00|              333|    COMPLETE|\n",
      "|      24|2013-07-25 00:00:00|            11441|      CLOSED|\n",
      "|      25|2013-07-25 00:00:00|             9503|      CLOSED|\n",
      "|      26|2013-07-25 00:00:00|             7562|    COMPLETE|\n",
      "|      28|2013-07-25 00:00:00|              656|    COMPLETE|\n",
      "|      32|2013-07-25 00:00:00|             3960|    COMPLETE|\n",
      "|      35|2013-07-25 00:00:00|             4840|    COMPLETE|\n",
      "|      37|2013-07-25 00:00:00|             5863|      CLOSED|\n",
      "|      45|2013-07-25 00:00:00|             2636|    COMPLETE|\n",
      "|      51|2013-07-25 00:00:00|            12271|      CLOSED|\n",
      "+--------+-------------------+-----------------+------------+\n",
      "only showing top 20 rows\n",
      "\n"
     ]
    }
   ],
   "source": [
    "spark.sql(\"SELECT * FROM orders WHERE order_status IN ('CLOSED','COMPLETE')\").show()\n"
   ]
  },
  {
   "cell_type": "markdown",
   "id": "363e9228-2cf8-4352-85c0-72a9eda402e1",
   "metadata": {},
   "source": [
    "#### 5. Count of orders"
   ]
  },
  {
   "cell_type": "code",
   "execution_count": 12,
   "id": "9fd964ea-0192-40da-82b1-a74f638fa2bd",
   "metadata": {},
   "outputs": [
    {
     "name": "stdout",
     "output_type": "stream",
     "text": [
      "+-----------+\n",
      "|order_count|\n",
      "+-----------+\n",
      "|      68883|\n",
      "+-----------+\n",
      "\n"
     ]
    }
   ],
   "source": [
    "spark.sql(\"SELECT COUNT(*) AS order_count FROM orders\").show()\n"
   ]
  },
  {
   "cell_type": "markdown",
   "id": "2deb8668-27e4-4454-a7f3-d174e541fcc0",
   "metadata": {},
   "source": [
    "#### 6. Count of order items"
   ]
  },
  {
   "cell_type": "code",
   "execution_count": 13,
   "id": "5995db3a-6e59-45ee-abb1-b4f504b6162c",
   "metadata": {},
   "outputs": [
    {
     "name": "stdout",
     "output_type": "stream",
     "text": [
      "+-----------------+\n",
      "|order_items_count|\n",
      "+-----------------+\n",
      "|           172198|\n",
      "+-----------------+\n",
      "\n"
     ]
    }
   ],
   "source": [
    "spark.sql(\"SELECT COUNT(*) AS order_items_count FROM order_items\").show()\n"
   ]
  },
  {
   "cell_type": "markdown",
   "id": "d7781e1d-3bce-471c-92a1-7c28bc739d1d",
   "metadata": {},
   "source": [
    "#### 7. Count of distinct order statuses"
   ]
  },
  {
   "cell_type": "code",
   "execution_count": 14,
   "id": "282002db-6d7b-40bc-89a4-fe2fe050531d",
   "metadata": {},
   "outputs": [
    {
     "name": "stdout",
     "output_type": "stream",
     "text": [
      "+---------------------+\n",
      "|distinct_status_count|\n",
      "+---------------------+\n",
      "|                    9|\n",
      "+---------------------+\n",
      "\n"
     ]
    }
   ],
   "source": [
    "spark.sql(\"SELECT COUNT(DISTINCT order_status) AS distinct_status_count FROM orders\").show()\n"
   ]
  },
  {
   "cell_type": "markdown",
   "id": "b067ca96-66d7-463b-914f-9a682bd4aad5",
   "metadata": {},
   "source": [
    "\n",
    "#### 8. Order revenue per order"
   ]
  },
  {
   "cell_type": "code",
   "execution_count": 15,
   "id": "303e11d4-9adb-4a35-90a1-6d800a6c4204",
   "metadata": {},
   "outputs": [
    {
     "name": "stdout",
     "output_type": "stream",
     "text": [
      "+-------------------+-------------+\n",
      "|order_item_order_id|order_revenue|\n",
      "+-------------------+-------------+\n",
      "|                  1|       299.98|\n",
      "|                  2|       579.98|\n",
      "|                  4|       699.85|\n",
      "|                  5|      1129.86|\n",
      "|                  7|       579.92|\n",
      "|                  8|       729.84|\n",
      "|                  9|       599.96|\n",
      "|                 10|       651.92|\n",
      "|                 11|       919.79|\n",
      "|                 12|      1299.87|\n",
      "|                 13|       127.96|\n",
      "|                 14|       549.94|\n",
      "|                 15|       925.91|\n",
      "|                 16|       419.93|\n",
      "|                 17|       694.84|\n",
      "|                 18|       449.96|\n",
      "|                 19|       699.96|\n",
      "|                 20|       879.86|\n",
      "|                 21|       372.91|\n",
      "|                 23|       299.98|\n",
      "+-------------------+-------------+\n",
      "only showing top 20 rows\n",
      "\n"
     ]
    }
   ],
   "source": [
    "\n",
    "spark.sql(\"\"\"\n",
    "SELECT order_item_order_id,\n",
    "       ROUND(SUM(order_item_subtotal),2) AS order_revenue\n",
    "FROM order_items\n",
    "GROUP BY order_item_order_id\n",
    "ORDER BY order_item_order_id\n",
    "\"\"\").show()"
   ]
  },
  {
   "cell_type": "markdown",
   "id": "46ad3956-a6ac-42b0-b528-9d62dba85738",
   "metadata": {},
   "source": [
    "#### 9. Orders with >=120 per date"
   ]
  },
  {
   "cell_type": "code",
   "execution_count": 16,
   "id": "69d6b504-ecf5-4952-a621-b1b75498ad88",
   "metadata": {},
   "outputs": [
    {
     "name": "stdout",
     "output_type": "stream",
     "text": [
      "+-------------------+-----------+\n",
      "|         order_date|order_count|\n",
      "+-------------------+-----------+\n",
      "|2013-11-03 00:00:00|        146|\n",
      "|2013-10-04 00:00:00|        127|\n",
      "|2013-11-05 00:00:00|        126|\n",
      "|2013-09-14 00:00:00|        126|\n",
      "|2013-11-11 00:00:00|        125|\n",
      "|2013-11-14 00:00:00|        125|\n",
      "|2013-11-30 00:00:00|        125|\n",
      "|2014-06-19 00:00:00|        124|\n",
      "|2014-05-06 00:00:00|        123|\n",
      "|2014-07-20 00:00:00|        123|\n",
      "|2013-08-06 00:00:00|        123|\n",
      "|2014-04-21 00:00:00|        123|\n",
      "|2014-06-09 00:00:00|        122|\n",
      "|2014-03-04 00:00:00|        122|\n",
      "|2014-02-25 00:00:00|        122|\n",
      "|2014-07-15 00:00:00|        121|\n",
      "|2013-12-06 00:00:00|        121|\n",
      "|2014-03-15 00:00:00|        121|\n",
      "|2013-09-05 00:00:00|        120|\n",
      "|2013-10-13 00:00:00|        120|\n",
      "+-------------------+-----------+\n",
      "only showing top 20 rows\n",
      "\n"
     ]
    }
   ],
   "source": [
    "spark.sql(\"\"\"\n",
    "SELECT order_date, COUNT(*) AS order_count\n",
    "FROM orders\n",
    "WHERE order_status IN ('COMPLETE','CLOSED')\n",
    "GROUP BY order_date\n",
    "HAVING COUNT(*) >= 120\n",
    "ORDER BY order_count DESC\n",
    "\"\"\").show()"
   ]
  },
  {
   "cell_type": "markdown",
   "id": "2dc744e5-fb09-4d84-b158-cc47bec70c1c",
   "metadata": {},
   "source": [
    "\r",
    "#### 10. Orders with revenue >=2000"
   ]
  },
  {
   "cell_type": "code",
   "execution_count": 17,
   "id": "64058f22-5f22-4b9b-b193-1f026b5bb5eb",
   "metadata": {},
   "outputs": [
    {
     "name": "stdout",
     "output_type": "stream",
     "text": [
      "+-------------------+-------------+\n",
      "|order_item_order_id|order_revenue|\n",
      "+-------------------+-------------+\n",
      "|              68703|      3449.91|\n",
      "|              68724|      2859.89|\n",
      "|              68858|      2839.91|\n",
      "|              68809|      2779.86|\n",
      "|              68766|       2699.9|\n",
      "|              68821|      2629.92|\n",
      "|              68806|      2629.92|\n",
      "|              68778|       2629.9|\n",
      "|              68848|      2399.96|\n",
      "|              68875|      2399.95|\n",
      "|              68859|      2349.89|\n",
      "|              68816|      2329.94|\n",
      "|              68837|      2299.96|\n",
      "|              68736|      2259.95|\n",
      "|              68722|      2199.99|\n",
      "|              68883|      2149.99|\n",
      "|              22030|       2039.8|\n",
      "+-------------------+-------------+\n",
      "\n"
     ]
    }
   ],
   "source": [
    "spark.sql(\"\"\"\n",
    "SELECT order_item_order_id,\n",
    "       ROUND(SUM(order_item_subtotal),2) AS order_revenue\n",
    "FROM order_items\n",
    "GROUP BY order_item_order_id\n",
    "HAVING ROUND(SUM(order_item_subtotal),2) >= 2000\n",
    "ORDER BY order_revenue DESC\n",
    "\"\"\").show()"
   ]
  },
  {
   "cell_type": "markdown",
   "id": "b9bf9eb4-9eaa-4911-90c3-7ffd3d0bed97",
   "metadata": {},
   "source": [
    "\r",
    "#### 11. Inner Join Orders + Order Items"
   ]
  },
  {
   "cell_type": "code",
   "execution_count": 18,
   "id": "fdd6384e-771c-442e-946f-81a27ab51f83",
   "metadata": {},
   "outputs": [
    {
     "name": "stdout",
     "output_type": "stream",
     "text": [
      "+-------------------+---------------------+-------------------+\n",
      "|         order_date|order_item_product_id|order_item_subtotal|\n",
      "+-------------------+---------------------+-------------------+\n",
      "|2013-07-25 00:00:00|                  957|             299.98|\n",
      "|2013-07-25 00:00:00|                 1073|             199.99|\n",
      "|2013-07-25 00:00:00|                  502|              250.0|\n",
      "|2013-07-25 00:00:00|                  403|             129.99|\n",
      "|2013-07-25 00:00:00|                  897|              49.98|\n",
      "|2013-07-25 00:00:00|                  365|             299.95|\n",
      "|2013-07-25 00:00:00|                  502|              150.0|\n",
      "|2013-07-25 00:00:00|                 1014|             199.92|\n",
      "|2013-07-25 00:00:00|                  957|             299.98|\n",
      "|2013-07-25 00:00:00|                  365|             299.95|\n",
      "|2013-07-25 00:00:00|                 1014|              99.96|\n",
      "|2013-07-25 00:00:00|                  957|             299.98|\n",
      "|2013-07-25 00:00:00|                  403|             129.99|\n",
      "|2013-07-25 00:00:00|                 1073|             199.99|\n",
      "|2013-07-25 00:00:00|                  957|             299.98|\n",
      "|2013-07-25 00:00:00|                  926|              79.95|\n",
      "|2013-07-25 00:00:00|                  365|             179.97|\n",
      "|2013-07-25 00:00:00|                  365|             299.95|\n",
      "|2013-07-25 00:00:00|                 1014|             199.92|\n",
      "|2013-07-25 00:00:00|                  502|               50.0|\n",
      "+-------------------+---------------------+-------------------+\n",
      "only showing top 20 rows\n",
      "\n"
     ]
    }
   ],
   "source": [
    "spark.sql(\"\"\"\n",
    "SELECT o.order_date, oi.order_item_product_id, oi.order_item_subtotal\n",
    "FROM orders o\n",
    "JOIN order_items oi\n",
    "ON o.order_id = oi.order_item_order_id\n",
    "\"\"\").show()"
   ]
  },
  {
   "cell_type": "markdown",
   "id": "87a414d3-284c-471a-ac5c-4b57adc1a674",
   "metadata": {},
   "source": [
    "#### 12. Left Outer Join Orders + Order Items"
   ]
  },
  {
   "cell_type": "code",
   "execution_count": 19,
   "id": "cbefb976-d264-4a96-9a1a-28dd20e4028d",
   "metadata": {},
   "outputs": [
    {
     "name": "stdout",
     "output_type": "stream",
     "text": [
      "+--------+-------------------+-------------+---------------------+-------------------+\n",
      "|order_id|         order_date|order_item_id|order_item_product_id|order_item_subtotal|\n",
      "+--------+-------------------+-------------+---------------------+-------------------+\n",
      "|       1|2013-07-25 00:00:00|            1|                  957|             299.98|\n",
      "|       2|2013-07-25 00:00:00|            4|                  403|             129.99|\n",
      "|       2|2013-07-25 00:00:00|            3|                  502|              250.0|\n",
      "|       2|2013-07-25 00:00:00|            2|                 1073|             199.99|\n",
      "|       3|2013-07-25 00:00:00|         NULL|                 NULL|               NULL|\n",
      "|       4|2013-07-25 00:00:00|            8|                 1014|             199.92|\n",
      "|       4|2013-07-25 00:00:00|            7|                  502|              150.0|\n",
      "|       4|2013-07-25 00:00:00|            6|                  365|             299.95|\n",
      "|       4|2013-07-25 00:00:00|            5|                  897|              49.98|\n",
      "|       5|2013-07-25 00:00:00|           13|                  403|             129.99|\n",
      "|       5|2013-07-25 00:00:00|           12|                  957|             299.98|\n",
      "|       5|2013-07-25 00:00:00|           11|                 1014|              99.96|\n",
      "|       5|2013-07-25 00:00:00|           10|                  365|             299.95|\n",
      "|       5|2013-07-25 00:00:00|            9|                  957|             299.98|\n",
      "|       6|2013-07-25 00:00:00|         NULL|                 NULL|               NULL|\n",
      "|       7|2013-07-25 00:00:00|           16|                  926|              79.95|\n",
      "|       7|2013-07-25 00:00:00|           15|                  957|             299.98|\n",
      "|       7|2013-07-25 00:00:00|           14|                 1073|             199.99|\n",
      "|       8|2013-07-25 00:00:00|           20|                  502|               50.0|\n",
      "|       8|2013-07-25 00:00:00|           19|                 1014|             199.92|\n",
      "+--------+-------------------+-------------+---------------------+-------------------+\n",
      "only showing top 20 rows\n",
      "\n"
     ]
    }
   ],
   "source": [
    "spark.sql(\"\"\"\n",
    "SELECT o.order_id, o.order_date,\n",
    "       oi.order_item_id, oi.order_item_product_id, oi.order_item_subtotal\n",
    "FROM orders o\n",
    "LEFT OUTER JOIN order_items oi\n",
    "ON o.order_id = oi.order_item_order_id\n",
    "ORDER BY o.order_id\n",
    "\"\"\").show()"
   ]
  },
  {
   "cell_type": "markdown",
   "id": "b486b3d9-72e0-4f75-a40e-507aaf4edff2",
   "metadata": {},
   "source": [
    "#### 13. Daily Revenue temp view"
   ]
  },
  {
   "cell_type": "code",
   "execution_count": 20,
   "id": "80d0551f-fa60-4696-a23c-15a4e932c471",
   "metadata": {},
   "outputs": [
    {
     "name": "stdout",
     "output_type": "stream",
     "text": [
      "+----------+-------------+\n",
      "|order_date|order_revenue|\n",
      "+----------+-------------+\n",
      "|2013-07-25|     31547.23|\n",
      "|2013-07-26|     54713.23|\n",
      "|2013-07-27|     48411.48|\n",
      "|2013-07-28|     35672.03|\n",
      "|2013-07-29|      54579.7|\n",
      "|2013-07-30|     49329.29|\n",
      "|2013-07-31|     59212.49|\n",
      "|2013-08-01|     49160.08|\n",
      "|2013-08-02|     50688.58|\n",
      "|2013-08-03|     43416.74|\n",
      "|2013-08-04|     35093.01|\n",
      "|2013-08-05|     34025.27|\n",
      "|2013-08-06|     57843.89|\n",
      "|2013-08-07|     45525.59|\n",
      "|2013-08-08|     33549.47|\n",
      "|2013-08-09|     29225.16|\n",
      "|2013-08-10|     46435.04|\n",
      "|2013-08-11|      31155.5|\n",
      "|2013-08-12|     59014.74|\n",
      "|2013-08-13|     17956.88|\n",
      "+----------+-------------+\n",
      "only showing top 20 rows\n",
      "\n"
     ]
    }
   ],
   "source": [
    "spark.sql(\"\"\"\n",
    "CREATE OR REPLACE TEMP VIEW daily_revenue AS\n",
    "SELECT to_date(o.order_date) AS order_date,\n",
    "       ROUND(SUM(oi.order_item_subtotal),2) AS order_revenue\n",
    "FROM orders o\n",
    "JOIN order_items oi\n",
    "ON o.order_id = oi.order_item_order_id\n",
    "WHERE o.order_status IN ('COMPLETE','CLOSED')\n",
    "GROUP BY to_date(o.order_date)\n",
    "\"\"\")\n",
    "spark.sql(\"SELECT * FROM daily_revenue ORDER BY order_date\").show()"
   ]
  },
  {
   "cell_type": "markdown",
   "id": "3d4d67d5-4454-45b7-a902-a8e98396ceb3",
   "metadata": {},
   "source": [
    "\r",
    "#### 14. Daily Product Revenue temp view"
   ]
  },
  {
   "cell_type": "code",
   "execution_count": 21,
   "id": "dd1b62d6-3417-49eb-8075-332878be65c4",
   "metadata": {},
   "outputs": [
    {
     "name": "stdout",
     "output_type": "stream",
     "text": [
      "+----------+---------------------+-------------+\n",
      "|order_date|order_item_product_id|order_revenue|\n",
      "+----------+---------------------+-------------+\n",
      "|2013-07-25|                 1004|      5599.72|\n",
      "|2013-07-25|                  191|      5099.49|\n",
      "|2013-07-25|                  957|       4499.7|\n",
      "|2013-07-25|                  365|      3359.44|\n",
      "|2013-07-25|                 1073|      2999.85|\n",
      "|2013-07-25|                 1014|      2798.88|\n",
      "|2013-07-25|                  403|      1949.85|\n",
      "|2013-07-25|                  502|       1650.0|\n",
      "|2013-07-25|                  627|      1079.73|\n",
      "|2013-07-25|                  226|       599.99|\n",
      "|2013-07-25|                   24|       319.96|\n",
      "|2013-07-25|                  821|       207.96|\n",
      "|2013-07-25|                  625|       199.99|\n",
      "|2013-07-25|                  705|       119.99|\n",
      "|2013-07-25|                  572|       119.97|\n",
      "|2013-07-25|                  666|       109.99|\n",
      "|2013-07-25|                  725|        108.0|\n",
      "|2013-07-25|                  134|        100.0|\n",
      "|2013-07-25|                  906|        99.96|\n",
      "|2013-07-25|                  828|        95.97|\n",
      "+----------+---------------------+-------------+\n",
      "only showing top 20 rows\n",
      "\n"
     ]
    }
   ],
   "source": [
    "spark.sql(\"\"\"\n",
    "CREATE OR REPLACE TEMP VIEW daily_product_revenue AS\n",
    "SELECT to_date(o.order_date) AS order_date,\n",
    "       oi.order_item_product_id,\n",
    "       ROUND(SUM(oi.order_item_subtotal),2) AS order_revenue\n",
    "FROM orders o\n",
    "JOIN order_items oi\n",
    "ON o.order_id = oi.order_item_order_id\n",
    "WHERE o.order_status IN ('COMPLETE','CLOSED')\n",
    "GROUP BY to_date(o.order_date), oi.order_item_product_id\n",
    "\"\"\")\n",
    "spark.sql(\"SELECT * FROM daily_product_revenue ORDER BY order_date, order_revenue DESC\").show()\n",
    "     "
   ]
  },
  {
   "cell_type": "markdown",
   "id": "05f65e6c-7cc5-479c-8e57-67cb7653b53d",
   "metadata": {},
   "source": [
    "#### 15. Monthly Revenue with Window"
   ]
  },
  {
   "cell_type": "code",
   "execution_count": 22,
   "id": "62935466-6ceb-41f5-8373-9535a16393bd",
   "metadata": {},
   "outputs": [
    {
     "name": "stdout",
     "output_type": "stream",
     "text": [
      "+-----------+----------+-------------+---------------------+\n",
      "|order_month|order_date|order_revenue|monthly_order_revenue|\n",
      "+-----------+----------+-------------+---------------------+\n",
      "|    2013-07|2013-07-25|     31547.23|   333465.44999999995|\n",
      "|    2013-07|2013-07-26|     54713.23|   333465.44999999995|\n",
      "|    2013-07|2013-07-27|     48411.48|   333465.44999999995|\n",
      "|    2013-07|2013-07-28|     35672.03|   333465.44999999995|\n",
      "|    2013-07|2013-07-29|      54579.7|   333465.44999999995|\n",
      "|    2013-07|2013-07-30|     49329.29|   333465.44999999995|\n",
      "|    2013-07|2013-07-31|     59212.49|   333465.44999999995|\n",
      "|    2013-08|2013-08-01|     49160.08|   1221828.8999999997|\n",
      "|    2013-08|2013-08-02|     50688.58|   1221828.8999999997|\n",
      "|    2013-08|2013-08-03|     43416.74|   1221828.8999999997|\n",
      "|    2013-08|2013-08-04|     35093.01|   1221828.8999999997|\n",
      "|    2013-08|2013-08-05|     34025.27|   1221828.8999999997|\n",
      "|    2013-08|2013-08-06|     57843.89|   1221828.8999999997|\n",
      "|    2013-08|2013-08-07|     45525.59|   1221828.8999999997|\n",
      "|    2013-08|2013-08-08|     33549.47|   1221828.8999999997|\n",
      "|    2013-08|2013-08-09|     29225.16|   1221828.8999999997|\n",
      "|    2013-08|2013-08-10|     46435.04|   1221828.8999999997|\n",
      "|    2013-08|2013-08-11|      31155.5|   1221828.8999999997|\n",
      "|    2013-08|2013-08-12|     59014.74|   1221828.8999999997|\n",
      "|    2013-08|2013-08-13|     17956.88|   1221828.8999999997|\n",
      "+-----------+----------+-------------+---------------------+\n",
      "only showing top 20 rows\n",
      "\n"
     ]
    }
   ],
   "source": [
    "spark.sql(\"\"\"\n",
    "SELECT date_format(dr.order_date,'yyyy-MM') AS order_month,\n",
    "       dr.order_date,\n",
    "       dr.order_revenue,\n",
    "       SUM(dr.order_revenue) OVER (PARTITION BY date_format(dr.order_date,'yyyy-MM')) AS monthly_order_revenue\n",
    "FROM daily_revenue dr\n",
    "ORDER BY dr.order_date\n",
    "\"\"\").show()"
   ]
  },
  {
   "cell_type": "markdown",
   "id": "0a23f139-c42d-4764-8d5e-18604b2ffcd0",
   "metadata": {},
   "source": [
    "#### 16. Total Revenue with Window"
   ]
  },
  {
   "cell_type": "code",
   "execution_count": 23,
   "id": "b838e7cd-e1b7-4d77-9ad2-cb38de61fabf",
   "metadata": {},
   "outputs": [
    {
     "name": "stdout",
     "output_type": "stream",
     "text": [
      "+----------+-------------+--------------------+\n",
      "|order_date|order_revenue| total_order_revenue|\n",
      "+----------+-------------+--------------------+\n",
      "|2013-07-25|     31547.23|1.5012982480000008E7|\n",
      "|2013-07-26|     54713.23|1.5012982480000008E7|\n",
      "|2013-07-27|     48411.48|1.5012982480000008E7|\n",
      "|2013-07-28|     35672.03|1.5012982480000008E7|\n",
      "|2013-07-29|      54579.7|1.5012982480000008E7|\n",
      "|2013-07-30|     49329.29|1.5012982480000008E7|\n",
      "|2013-07-31|     59212.49|1.5012982480000008E7|\n",
      "|2013-08-01|     49160.08|1.5012982480000008E7|\n",
      "|2013-08-02|     50688.58|1.5012982480000008E7|\n",
      "|2013-08-03|     43416.74|1.5012982480000008E7|\n",
      "|2013-08-04|     35093.01|1.5012982480000008E7|\n",
      "|2013-08-05|     34025.27|1.5012982480000008E7|\n",
      "|2013-08-06|     57843.89|1.5012982480000008E7|\n",
      "|2013-08-07|     45525.59|1.5012982480000008E7|\n",
      "|2013-08-08|     33549.47|1.5012982480000008E7|\n",
      "|2013-08-09|     29225.16|1.5012982480000008E7|\n",
      "|2013-08-10|     46435.04|1.5012982480000008E7|\n",
      "|2013-08-11|      31155.5|1.5012982480000008E7|\n",
      "|2013-08-12|     59014.74|1.5012982480000008E7|\n",
      "|2013-08-13|     17956.88|1.5012982480000008E7|\n",
      "+----------+-------------+--------------------+\n",
      "only showing top 20 rows\n",
      "\n"
     ]
    }
   ],
   "source": [
    "spark.sql(\"\"\"\n",
    "SELECT dr.*,\n",
    "       SUM(order_revenue) OVER () AS total_order_revenue\n",
    "FROM daily_revenue dr\n",
    "ORDER BY dr.order_date\n",
    "\"\"\").show()"
   ]
  },
  {
   "cell_type": "markdown",
   "id": "97fe1ccd-6980-4625-9c20-02ba806384ab",
   "metadata": {},
   "source": [
    "#### 17. Top 5 Products per Day (Window)"
   ]
  },
  {
   "cell_type": "code",
   "execution_count": 24,
   "id": "d6ca67e9-c811-46ff-9b48-6ee1095a6b6e",
   "metadata": {},
   "outputs": [
    {
     "name": "stdout",
     "output_type": "stream",
     "text": [
      "+----------+---------------------+-------------+---+----+\n",
      "|order_date|order_item_product_id|order_revenue|rnk|drnk|\n",
      "+----------+---------------------+-------------+---+----+\n",
      "|2014-01-01|                 1004|      5599.72|  1|   1|\n",
      "|2014-01-01|                  191|      4399.56|  2|   2|\n",
      "|2014-01-01|                  365|      3839.36|  3|   3|\n",
      "|2014-01-01|                  502|       3300.0|  4|   4|\n",
      "|2014-01-01|                  957|      3299.78|  5|   5|\n",
      "|2014-01-02|                 1004|      4799.76|  1|   1|\n",
      "|2014-01-02|                  957|       2999.8|  2|   2|\n",
      "|2014-01-02|                  365|      2939.51|  3|   3|\n",
      "|2014-01-02|                 1073|      2599.87|  4|   4|\n",
      "|2014-01-02|                  403|      2469.81|  5|   5|\n",
      "|2014-01-03|                 1004|     11599.42|  1|   1|\n",
      "|2014-01-03|                  365|      6958.84|  2|   2|\n",
      "|2014-01-03|                  191|      5599.44|  3|   3|\n",
      "|2014-01-03|                  957|      5399.64|  4|   4|\n",
      "|2014-01-03|                 1073|      5199.74|  5|   5|\n",
      "|2014-01-04|                 1004|      7599.62|  1|   1|\n",
      "|2014-01-04|                  365|      4259.29|  2|   2|\n",
      "|2014-01-04|                  191|       3999.6|  3|   3|\n",
      "|2014-01-04|                  403|       3899.7|  4|   4|\n",
      "|2014-01-04|                  502|       2950.0|  5|   5|\n",
      "+----------+---------------------+-------------+---+----+\n",
      "only showing top 20 rows\n",
      "\n"
     ]
    }
   ],
   "source": [
    "spark.sql(\"\"\"\n",
    "WITH daily_product_revenue_ranks AS (\n",
    "  SELECT order_date,\n",
    "         order_item_product_id,\n",
    "         order_revenue,\n",
    "         RANK() OVER (PARTITION BY order_date ORDER BY order_revenue DESC) AS rnk,\n",
    "         DENSE_RANK() OVER (PARTITION BY order_date ORDER BY order_revenue DESC) AS drnk\n",
    "  FROM daily_product_revenue\n",
    "  WHERE date_format(order_date,'yyyy-MM')='2014-01'\n",
    ")\n",
    "SELECT *\n",
    "FROM daily_product_revenue_ranks\n",
    "WHERE drnk <= 5\n",
    "ORDER BY order_date, order_revenue DESC\n",
    "\"\"\").show()"
   ]
  }
 ],
 "metadata": {
  "kernelspec": {
   "display_name": "Python 3 (ipykernel)",
   "language": "python",
   "name": "python3"
  },
  "language_info": {
   "codemirror_mode": {
    "name": "ipython",
    "version": 3
   },
   "file_extension": ".py",
   "mimetype": "text/x-python",
   "name": "python",
   "nbconvert_exporter": "python",
   "pygments_lexer": "ipython3",
   "version": "3.11.6"
  }
 },
 "nbformat": 4,
 "nbformat_minor": 5
}
